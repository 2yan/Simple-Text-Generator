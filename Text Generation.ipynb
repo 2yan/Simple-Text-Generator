{
 "cells": [
  {
   "cell_type": "code",
   "execution_count": 76,
   "metadata": {
    "collapsed": true
   },
   "outputs": [],
   "source": [
    "import requests\n",
    "import nltk\n",
    "import pandas as pd\n",
    "from numpy.random import choice"
   ]
  },
  {
   "cell_type": "code",
   "execution_count": 42,
   "metadata": {
    "scrolled": true
   },
   "outputs": [],
   "source": [
    "def get_text():\n",
    "    txt = requests.get('http://www.gutenberg.org/files/11/11.txt').text\n",
    "    return txt\n",
    "txt = get_text()\n"
   ]
  },
  {
   "cell_type": "code",
   "execution_count": 190,
   "metadata": {},
   "outputs": [],
   "source": [
    "def clean_data(text):\n",
    "    text = text.lower()\n",
    "    data = nltk.word_tokenize(text)\n",
    "    data = pd.DataFrame(data, columns = ['tokens'])\n",
    "    #data = pd.DataFrame(list(text), columns = ['tokens'])\n",
    "    return data\n",
    "\n",
    "raw_data = clean_data(txt)\n",
    "data = pd.DataFrame(raw_data['tokens'].unique())"
   ]
  },
  {
   "cell_type": "code",
   "execution_count": 191,
   "metadata": {},
   "outputs": [],
   "source": [
    "def get_probabilities(word):\n",
    "    mask = raw_data['tokens'] == word\n",
    "    probabilities = raw_data[mask.shift(1).fillna(False)]['tokens'].value_counts()\n",
    "    \n",
    "    return probabilities/probabilities.sum()\n",
    "\n",
    "def pick(start_word):\n",
    "    x = get_probabilities(start_word)\n",
    "   \n",
    "    return choice(x.index, p = x.values)\n",
    "\n",
    "def make_sentence(seed):\n",
    "    for num in range(0, 500):\n",
    "        print(seed, end = ' ')\n",
    "        seed = pick(seed)"
   ]
  },
  {
   "cell_type": "code",
   "execution_count": 194,
   "metadata": {},
   "outputs": [
    {
     "name": "stdout",
     "output_type": "stream",
     "text": [
      "fear lest she had quite agree to other , and quietly smoking again , singing in confusion that better . ' alice began nibbling at home , for thirty years , and among the mock turtle in the u.s. unless you 're a melancholy tone , and will you grow up and then raised herself still in the roots of the dodo said alice , she remembered how glad they had to have to alice again ; 'in my ears for a little girls of the last remark that it 's , leaning her life , ' said alice heard something worth a pencil that ! ' alice could even waiting for her knee , 'and then , thank ye ; these were three pairs of the duchess ; as it had n't answer without knocking , and , and began in like to receive the crowd collected at all must manage better not much of little thing ! so shiny ? ' the king eagerly , with their friends had been to ask help it without speaking , pine-apple , with one of the house , ' the cattle in the queen of a watch , if it 's the knave was full of it so they may n't fit ) she went slowly back with anyone . 'it proves his whiskers , ' said , the caterpillar . ' the cook threw themselves up in it 's the king , she said the project gutenberg-tm trademark , 'now we went on again , half of trials , and looked at poor alice , '' said five ! let me giddy . do n't see ! ' said the time they seemed to himself : http : 'there 's no mice -- of it myself , the moment they have done with me see , ' 'i beg your business of tears which ) alteration , 'that it did you a teacup instead of the duchess by this , 'come , and mustard is very few things being seen them her head down with her one side . ' thought alice . 'what a little dog growls when she said the table , my tail when she knelt down at this ebook is dinah ! ' the squeaking of people knew what o'clock in my wife ; it more than that 's no use , and made some crumbs , then followed the queen , she , marked up at first , ' 'i do n't know you know -- here before , i do you may contain '' the pattern on the sands are set forth in this moment , or entity providing copies of the words : //www.gutenberg.org this ; and thought , alice began thinking there 's no answers . would have our web page at once she might just in one eye ; the march hare , passionate voice . 'that would feel very turn-up nose ; 'they'd have said the caterpillar was going to "
     ]
    }
   ],
   "source": [
    "make_sentence('fear')"
   ]
  }
 ],
 "metadata": {
  "kernelspec": {
   "display_name": "Python 3",
   "language": "python",
   "name": "python3"
  },
  "language_info": {
   "codemirror_mode": {
    "name": "ipython",
    "version": 3
   },
   "file_extension": ".py",
   "mimetype": "text/x-python",
   "name": "python",
   "nbconvert_exporter": "python",
   "pygments_lexer": "ipython3",
   "version": "3.6.3"
  }
 },
 "nbformat": 4,
 "nbformat_minor": 2
}
